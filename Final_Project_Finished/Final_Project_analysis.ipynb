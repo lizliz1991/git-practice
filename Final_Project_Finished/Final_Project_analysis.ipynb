{
 "cells": [
  {
   "cell_type": "code",
   "execution_count": 179,
   "metadata": {
    "collapsed": false
   },
   "outputs": [
    {
     "name": "stdout",
     "output_type": "stream",
     "text": [
      "|-------------------------+---------------|\n",
      "|  column_names           | column_types  |\n",
      "|-------------------------+---------------|\n",
      "|  Name                   | Text          |\n",
      "|  Address                | Text          |\n",
      "|  Latitude               | Number        |\n",
      "|  Longtitude             | Number        |\n",
      "|  Type                   | Text          |\n",
      "|  Latest Inspection Date | Date          |\n",
      "|  Type                   | Text          |\n",
      "|  Critical_Violation     | Number        |\n",
      "|  Non_Critical_Violation | Number        |\n",
      "|  Total                  | Number        |\n",
      "|-------------------------+---------------|\n",
      "\n"
     ]
    }
   ],
   "source": [
    "import agate\n",
    "import csvkit\n",
    "\n",
    "inspections = agate.Table.from_csv('Final1.csv') \n",
    "\n",
    "print (inspections)"
   ]
  },
  {
   "cell_type": "code",
   "execution_count": 180,
   "metadata": {
    "collapsed": false
   },
   "outputs": [],
   "source": [
    "#for row in inspections.rows:\n",
    "    #print(row['Critical-Violation'])"
   ]
  },
  {
   "cell_type": "code",
   "execution_count": 181,
   "metadata": {
    "collapsed": false
   },
   "outputs": [
    {
     "name": "stdout",
     "output_type": "stream",
     "text": [
      "Critical_Violation Count\n",
      "[0 - 1)              267 ▓░░░░░░░░░░░░░░░░░░░░░░░░░░░░░░░░░░░░░░░░░░░░░░░░      \n",
      "[1 - 2)              132 ▓░░░░░░░░░░░░░░░░░░░░░░░░                              \n",
      "[2 - 3)               45 ▓░░░░░░░░                                              \n",
      "[3 - 4)               17 ▓░░░                                                   \n",
      "[4 - 5)               11 ▓░░                                                    \n",
      "[5 - 6)                3 ▓░                                                     \n",
      "[6 - 7)                3 ▓░                                                     \n",
      "[8 - 9]                1 ▓                                                      \n",
      "                         +-------------+------------+------------+-------------+\n",
      "                         0            75           150          225          300\n"
     ]
    }
   ],
   "source": [
    "binned_critical = inspections.bins('Critical_Violation', 9, 0, 9)\n",
    "binned_critical.print_bars('Critical_Violation', 'Count', width=80)"
   ]
  },
  {
   "cell_type": "code",
   "execution_count": 182,
   "metadata": {
    "collapsed": false,
    "scrolled": true
   },
   "outputs": [
    {
     "name": "stdout",
     "output_type": "stream",
     "text": [
      "0\n"
     ]
    }
   ],
   "source": [
    "median_critical = inspections.aggregate(agate.Median('Critical_Violation'))\n",
    "\n",
    "print(median_critical)"
   ]
  },
  {
   "cell_type": "code",
   "execution_count": 183,
   "metadata": {
    "collapsed": false
   },
   "outputs": [
    {
     "name": "stdout",
     "output_type": "stream",
     "text": [
      "|-----------------------+----------------------+-----------+------------+------------+------------------------+---------+--------------------+------------------------+--------|\n",
      "|  Name                 | Address              |  Latitude | Longtitude | Type       | Latest Inspection Date | Type    | Critical_Violation | Non_Critical_Violation | Total  |\n",
      "|-----------------------+----------------------+-----------+------------+------------+------------------------+---------+--------------------+------------------------+--------|\n",
      "|  EL TIGRE             | 110 W  NIFONG COL... | 38.908225 | -92.339846 | RESTAURANT |             2016-03-23 | ROUTINE |                  9 |                      2 |    11  |\n",
      "|  ASHLAND OPTIMIST     | 511 OPTIMIST DR. ... | 38.781833 | -92.255434 | RESTAURANT |             2015-12-18 | ROUTINE |                  6 |                      2 |     8  |\n",
      "|  CHINA KITCHEN        | 503 E  NIFONG COL... | 38.911751 | -92.332502 | RESTAURANT |             2016-03-21 | ROUTINE |                  6 |                      5 |    11  |\n",
      "|  KOJABA               | 601 W   BUSINESS ... | 38.967365 | -92.345423 | RESTAURANT |             2016-03-29 | ROUTINE |                  6 |                      1 |     7  |\n",
      "|  63 DINER             | 5801 N 763 HWY  6... | 39.014352 | -92.323521 | RESTAURANT |             2014-12-26 | ROUTINE |                  5 |                      1 |     6  |\n",
      "|  CHINESE WOK EXPRESS  | 422 E  BROADWAY C... | 38.951335 | -92.332056 | RESTAURANT |             2016-02-08 | ROUTINE |                  5 |                      9 |    14  |\n",
      "|  PAPA JOHNS PIZZA     | 1205 E. BROADWAY ... | 38.951802 | -92.323673 | RESTAURANT |             2016-03-23 | ROUTINE |                  5 |                      0 |     5  |\n",
      "|  ABC CHINESE          | 3510   I-70 DRIVE... | 38.960854 | -92.284414 | RESTAURANT |             2016-04-29 | ROUTINE |                  4 |                      1 |     5  |\n",
      "|  JINA YOO'S ASIAN ... | 2200   FORUM COLU... | 38.927848 | -92.363528 | RESTAURANT |             2015-12-30 | ROUTINE |                  4 |                      2 |     6  |\n",
      "|  LEE STREET DELI LLC  | 603   LEE COLUMBI... | 38.944516 | -92.320791 | RESTAURANT |             2016-04-26 | ROUTINE |                  4 |                      1 |     5  |\n",
      "|-----------------------+----------------------+-----------+------------+------------+------------------------+---------+--------------------+------------------------+--------|\n"
     ]
    }
   ],
   "source": [
    "sorted_by_critical = inspections.order_by('Critical_Violation', reverse=True)\n",
    "worst_ten = sorted_by_critical.limit(10)\n",
    "worst_ten.print_table(max_columns=10)"
   ]
  },
  {
   "cell_type": "code",
   "execution_count": 184,
   "metadata": {
    "collapsed": false
   },
   "outputs": [
    {
     "name": "stdout",
     "output_type": "stream",
     "text": [
      "Non_Critical_Violation Count\n",
      "[0 - 1)                  264 ▓░░░░░░░░░░░░░░░░░░░░░░░░░░░░░░░░░░░░░░░░░░░░      \n",
      "[1 - 2)                  108 ▓░░░░░░░░░░░░░░░░░░                                \n",
      "[2 - 3)                   60 ▓░░░░░░░░░░                                        \n",
      "[3 - 4)                   24 ▓░░░░                                              \n",
      "[4 - 5)                   13 ▓░░                                                \n",
      "[5 - 6)                    6 ▓░                                                 \n",
      "[6 - 7)                    1 ▓                                                  \n",
      "[7 - 8)                    1 ▓                                                  \n",
      "[8 - 9]                    2 ▓                                                  \n",
      "                             +-----------+------------+------------+-----------+\n",
      "                             0          75           150          225        300\n"
     ]
    }
   ],
   "source": [
    "binned_noncritical = inspections.bins('Non_Critical_Violation', 9, 0, 9)\n",
    "binned_noncritical.print_bars('Non_Critical_Violation', 'Count', width=80)"
   ]
  },
  {
   "cell_type": "code",
   "execution_count": 185,
   "metadata": {
    "collapsed": false
   },
   "outputs": [
    {
     "name": "stdout",
     "output_type": "stream",
     "text": [
      "0\n"
     ]
    }
   ],
   "source": [
    "median_noncritical = inspections.aggregate(agate.Median('Non_Critical_Violation'))\n",
    "\n",
    "print(median_noncritical)"
   ]
  },
  {
   "cell_type": "code",
   "execution_count": 186,
   "metadata": {
    "collapsed": false
   },
   "outputs": [
    {
     "name": "stdout",
     "output_type": "stream",
     "text": [
      "|----------------------+----------------------+-----------+------------+------------+------------------------+---------+--------------------+------------------------+--------|\n",
      "|  Name                | Address              |  Latitude | Longtitude | Type       | Latest Inspection Date | Type    | Critical_Violation | Non_Critical_Violation | Total  |\n",
      "|----------------------+----------------------+-----------+------------+------------+------------------------+---------+--------------------+------------------------+--------|\n",
      "|  CHINESE WOK EXPRESS | 422 E  BROADWAY C... | 38.951335 | -92.332056 | RESTAURANT |             2016-02-08 | ROUTINE |                  5 |                      9 |    14  |\n",
      "|  TAJ MAHAL           | 500 E  WALNUT COL... | 38.952417 | -92.331280 | RESTAURANT |             2016-03-11 | ROUTINE |                  4 |                      8 |    12  |\n",
      "|  GEISHA SUSHI BAR    | 804 E BROADWAY ST... | 38.951161 | -92.328373 | RESTAURANT |             2016-04-11 | ROUTINE |                  2 |                      7 |     9  |\n",
      "|  KOSTAKI'S PIZZERIA  | 2101   CORONA COL... | 38.932134 | -92.399014 | RESTAURANT |             2015-02-06 | ROUTINE |                  1 |                      6 |     7  |\n",
      "|  CAMPUS BAR & GRILL  | 304 S  NINTH COLU... | 38.948246 | -92.327341 | RESTAURANT |             2016-03-07 | ROUTINE |                  1 |                      5 |     6  |\n",
      "|  CHINA KITCHEN       | 503 E  NIFONG COL... | 38.911751 | -92.332502 | RESTAURANT |             2016-03-21 | ROUTINE |                  6 |                      5 |    11  |\n",
      "|  COUNTRY KITCHEN     | 1712 N  PROVIDENC... | 38.970925 | -92.333258 | RESTAURANT |             2016-02-10 | ROUTINE |                  2 |                      5 |     7  |\n",
      "|  KALDI'S COFFEE      | 29 S  NINTH COLUM... | 38.950652 | -92.327795 | RESTAURANT |             2016-01-12 | Other   |                  0 |                      5 |     5  |\n",
      "|  LA SIESTA           | 33 N  NINTH COLUM... | 38.952458 | -92.327775 | RESTAURANT |             2016-03-23 | ROUTINE |                  2 |                      5 |     7  |\n",
      "|  STEAK N SHAKE       | 1912 W  WORLEY CO... | 38.960639 | -92.368431 | RESTAURANT |             2016-03-15 | ROUTINE |                  1 |                      5 |     6  |\n",
      "|----------------------+----------------------+-----------+------------+------------+------------------------+---------+--------------------+------------------------+--------|\n"
     ]
    }
   ],
   "source": [
    "sorted_by_noncritical = inspections.order_by('Non_Critical_Violation', reverse=True)\n",
    "worst_ten_noncritical = sorted_by_noncritical.limit(10)\n",
    "worst_ten_noncritical.print_table(max_columns=10)"
   ]
  },
  {
   "cell_type": "code",
   "execution_count": 187,
   "metadata": {
    "collapsed": false
   },
   "outputs": [
    {
     "name": "stdout",
     "output_type": "stream",
     "text": [
      "Total     Count\n",
      "[0 - 2)     294 ▓░░░░░░░░░░░░░░░░░░░░░░░░░░░░░░░░░░░░░░░░░░░░░░░░░░░░░░░░░░░░░░ \n",
      "[2 - 4)     115 ▓░░░░░░░░░░░░░░░░░░░░░░░░                                       \n",
      "[4 - 6)      42 ▓░░░░░░░░░                                                      \n",
      "[6 - 8)      21 ▓░░░░                                                           \n",
      "[8 - 10)      3 ▓░                                                              \n",
      "[10 - 12)     2 ▓                                                               \n",
      "[12 - 14)     1 ▓                                                               \n",
      "[14 - 16]     1 ▓                                                               \n",
      "                +---------------+---------------+--------------+---------------+\n",
      "                0              75              150            225            300\n"
     ]
    }
   ],
   "source": [
    "binned_total = inspections.bins('Total', 8, 0, 16)\n",
    "binned_total.print_bars('Total', 'Count', width=80)"
   ]
  },
  {
   "cell_type": "code",
   "execution_count": 188,
   "metadata": {
    "collapsed": false
   },
   "outputs": [
    {
     "name": "stdout",
     "output_type": "stream",
     "text": [
      "1\n"
     ]
    }
   ],
   "source": [
    "median_total = inspections.aggregate(agate.Median('Total'))\n",
    "\n",
    "print(median_total)"
   ]
  },
  {
   "cell_type": "code",
   "execution_count": 189,
   "metadata": {
    "collapsed": false
   },
   "outputs": [
    {
     "name": "stdout",
     "output_type": "stream",
     "text": [
      "|-----------------------+----------------------+-----------+------------+------------+------------------------+---------+--------------------+------------------------+--------|\n",
      "|  Name                 | Address              |  Latitude | Longtitude | Type       | Latest Inspection Date | Type    | Critical_Violation | Non_Critical_Violation | Total  |\n",
      "|-----------------------+----------------------+-----------+------------+------------+------------------------+---------+--------------------+------------------------+--------|\n",
      "|  CHINESE WOK EXPRESS  | 422 E  BROADWAY C... | 38.951335 | -92.332056 | RESTAURANT |             2016-02-08 | ROUTINE |                  5 |                      9 |    14  |\n",
      "|  TAJ MAHAL            | 500 E  WALNUT COL... | 38.952417 | -92.331280 | RESTAURANT |             2016-03-11 | ROUTINE |                  4 |                      8 |    12  |\n",
      "|  CHINA KITCHEN        | 503 E  NIFONG COL... | 38.911751 | -92.332502 | RESTAURANT |             2016-03-21 | ROUTINE |                  6 |                      5 |    11  |\n",
      "|  EL TIGRE             | 110 W  NIFONG COL... | 38.908225 | -92.339846 | RESTAURANT |             2016-03-23 | ROUTINE |                  9 |                      2 |    11  |\n",
      "|  GEISHA SUSHI BAR     | 804 E BROADWAY ST... | 38.951161 | -92.328373 | RESTAURANT |             2016-04-11 | ROUTINE |                  2 |                      7 |     9  |\n",
      "|  ASHLAND OPTIMIST     | 511 OPTIMIST DR. ... | 38.781833 | -92.255434 | RESTAURANT |             2015-12-18 | ROUTINE |                  6 |                      2 |     8  |\n",
      "|  UMBRIA RUSTIC ITA... | 904   ELM COLUMBI... | 38.948211 | -92.326908 | RESTAURANT |             2016-03-17 | ROUTINE |                  4 |                      4 |     8  |\n",
      "|  COUNTRY KITCHEN      | 1712 N  PROVIDENC... | 38.970925 | -92.333258 | RESTAURANT |             2016-02-10 | ROUTINE |                  2 |                      5 |     7  |\n",
      "|  KOJABA               | 601 W   BUSINESS ... | 38.967365 | -92.345423 | RESTAURANT |             2016-03-29 | ROUTINE |                  6 |                      1 |     7  |\n",
      "|  KOSTAKI'S LLC #2     | 3412   GRINDSTONE... | 38.911636 | -92.296692 | RESTAURANT |             2014-12-18 | ROUTINE |                  3 |                      4 |     7  |\n",
      "|  KOSTAKI'S PIZZERIA   | 2101   CORONA COL... | 38.932134 | -92.399014 | RESTAURANT |             2015-02-06 | ROUTINE |                  1 |                      6 |     7  |\n",
      "|  LA SIESTA            | 33 N  NINTH COLUM... | 38.952458 | -92.327775 | RESTAURANT |             2016-03-23 | ROUTINE |                  2 |                      5 |     7  |\n",
      "|  LONE STAR STEAKHOUSE | 3220   VANDIVER C... | 38.973241 | -92.289399 | RESTAURANT |             2016-04-04 | ROUTINE |                  4 |                      3 |     7  |\n",
      "|  SPORTS  ZONE/PICA... | 2200   I-70 DRIVE... | 38.967164 | -92.373546 | RESTAURANT |             2016-02-04 | ROUTINE |                  4 |                      3 |     7  |\n",
      "|  63 DINER             | 5801 N 763 HWY  6... | 39.014352 | -92.323521 | RESTAURANT |             2014-12-26 | ROUTINE |                  5 |                      1 |     6  |\n",
      "|-----------------------+----------------------+-----------+------------+------------+------------------------+---------+--------------------+------------------------+--------|\n"
     ]
    }
   ],
   "source": [
    "sorted_by_total = inspections.order_by('Total', reverse=True)\n",
    "worst_fifteen_total = sorted_by_total.limit(15)\n",
    "worst_fifteen_total.print_table(max_columns=10)"
   ]
  }
 ],
 "metadata": {
  "kernelspec": {
   "display_name": "Python 2",
   "language": "python",
   "name": "python2"
  },
  "language_info": {
   "codemirror_mode": {
    "name": "ipython",
    "version": 2
   },
   "file_extension": ".py",
   "mimetype": "text/x-python",
   "name": "python",
   "nbconvert_exporter": "python",
   "pygments_lexer": "ipython2",
   "version": "2.7.6"
  }
 },
 "nbformat": 4,
 "nbformat_minor": 0
}
